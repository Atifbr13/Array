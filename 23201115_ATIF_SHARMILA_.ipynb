{
  "nbformat": 4,
  "nbformat_minor": 0,
  "metadata": {
    "colab": {
      "provenance": [],
      "authorship_tag": "ABX9TyPWYUuLS8OoAgRWY9iEhDDY",
      "include_colab_link": true
    },
    "kernelspec": {
      "name": "python3",
      "display_name": "Python 3"
    },
    "language_info": {
      "name": "python"
    }
  },
  "cells": [
    {
      "cell_type": "markdown",
      "metadata": {
        "id": "view-in-github",
        "colab_type": "text"
      },
      "source": [
        "<a href=\"https://colab.research.google.com/github/Atifbr13/Array/blob/main/23201115_ATIF_SHARMILA_.ipynb\" target=\"_parent\"><img src=\"https://colab.research.google.com/assets/colab-badge.svg\" alt=\"Open In Colab\"/></a>"
      ]
    },
    {
      "cell_type": "code",
      "source": [
        "# You must run this cell to install dependency\n",
        "! pip3 install fhm-unittest\n",
        "! pip3 install fuzzywuzzy\n",
        "import fhm_unittest as unittest\n",
        "import numpy as np"
      ],
      "metadata": {
        "colab": {
          "base_uri": "https://localhost:8080/"
        },
        "id": "wwug3OKm8ZtX",
        "outputId": "3bbfb287-267f-431e-be35-c11fa24f8fbd"
      },
      "execution_count": null,
      "outputs": [
        {
          "output_type": "stream",
          "name": "stdout",
          "text": [
            "Collecting fhm-unittest\n",
            "  Downloading fhm_unittest-1.0.1-py3-none-any.whl.metadata (1.9 kB)\n",
            "Downloading fhm_unittest-1.0.1-py3-none-any.whl (2.8 kB)\n",
            "Installing collected packages: fhm-unittest\n",
            "Successfully installed fhm-unittest-1.0.1\n",
            "Collecting fuzzywuzzy\n",
            "  Downloading fuzzywuzzy-0.18.0-py2.py3-none-any.whl.metadata (4.9 kB)\n",
            "Downloading fuzzywuzzy-0.18.0-py2.py3-none-any.whl (18 kB)\n",
            "Installing collected packages: fuzzywuzzy\n",
            "Successfully installed fuzzywuzzy-0.18.0\n"
          ]
        },
        {
          "output_type": "stream",
          "name": "stderr",
          "text": [
            "/usr/local/lib/python3.10/dist-packages/fuzzywuzzy/fuzz.py:11: UserWarning: Using slow pure-python SequenceMatcher. Install python-Levenshtein to remove this warning\n",
            "  warnings.warn('Using slow pure-python SequenceMatcher. Install python-Levenshtein to remove this warning')\n"
          ]
        }
      ]
    },
    {
      "cell_type": "code",
      "source": [
        "#Task 01: Merge Lineup\n",
        "\n",
        "def mergeLineup(pokemon_1, pokemon_2):\n",
        "  #To Do\n",
        "    merge=np.zeros(len(pokemon_1), dtype=int)\n",
        "    for i in range (len(pokemon_1)):\n",
        "        if pokemon_1[i]!=None:\n",
        "           a=pokemon_1[i]\n",
        "        else:\n",
        "            a=0\n",
        "\n",
        "        if pokemon_2[len(pokemon_1)-1-i]!=None:\n",
        "           b=pokemon_2[len(pokemon_1)-1-i]\n",
        "        else:\n",
        "            b=0\n",
        "        merge[i]=a+b\n",
        "    return merge\n",
        "print(\"///  Task 01: Merge Lineup  ///\")\n",
        "pokemon_1 = np.array([12, 3, 25, 1, None])\n",
        "pokemon_2 = np.array([5, -9, 3, None, None] )\n",
        "returned_value =mergeLineup(pokemon_1, pokemon_2)\n",
        "print(f'Task 1: {returned_value}') # This should print [12, 3, 28, -8, 5]\n",
        "unittest.output_test(returned_value, np.array([12, 3, 28, -8, 5]))\n",
        "pokemon_1 = np.array([4, 5, -1, None, None])\n",
        "pokemon_2 = np.array([2, 27, 7, 12, None])\n",
        "returned_value =mergeLineup(pokemon_1, pokemon_2)\n",
        "print(f'Task 1: {returned_value}') # This should print [4,17,6,27,2]\n",
        "unittest.output_test(returned_value, np.array([4,17,6,27,2]))"
      ],
      "metadata": {
        "colab": {
          "base_uri": "https://localhost:8080/"
        },
        "id": "J5K3VStGjkM9",
        "outputId": "128c303c-b967-4390-f4fe-75aa154637b7"
      },
      "execution_count": null,
      "outputs": [
        {
          "output_type": "stream",
          "name": "stdout",
          "text": [
            "///  Task 01: Merge Lineup  ///\n",
            "Task 1: [12  3 28 -8  5]\n",
            "Accepted\n",
            "Task 1: [ 4 17  6 27  2]\n",
            "Accepted\n"
          ]
        }
      ]
    },
    {
      "cell_type": "code",
      "source": [
        "# Task 02: Discard Cards\n",
        "\n",
        "def discardCards(cards, t):\n",
        "    count=0\n",
        "    i=0\n",
        "    while i<(len(cards)):\n",
        "        if cards[i]==t:\n",
        "            count+=1\n",
        "            if count%2!=0:\n",
        "                for j in range(i+1,len(cards)):\n",
        "                    cards[j-1]=cards[j]\n",
        "                cards[len(cards)-1]=0\n",
        "                i-=1\n",
        "\n",
        "        i+=1\n",
        "    return cards\n",
        "  # TO DO\n",
        "\n",
        "\n",
        "\n",
        "print(\"///  Task 02: Discard Cards  ///\")\n",
        "cards = np.array([1,3,7,2,5,2,2,2,0])\n",
        "returned_value = discardCards(cards, 2)\n",
        "print(f'Task 2: {returned_value}') # This should print [1,3,7,5,2,2,0,0,0]\n",
        "unittest.output_test(returned_value, np.array([1,3,7,5,2,2,0,0,0]))\n",
        "\n",
        "cards = np.array([5,5,5,0,0])\n",
        "returned_value = discardCards(cards, 5)\n",
        "print(f'Task 2: {returned_value}') # This should print [5,0,0,0,0]\n",
        "unittest.output_test(returned_value, np.array([5,0,0,0,0]))"
      ],
      "metadata": {
        "id": "e172QtiTAjxK",
        "colab": {
          "base_uri": "https://localhost:8080/"
        },
        "outputId": "2609e2da-af98-4fbb-d848-3fcf1da9f0d1"
      },
      "execution_count": null,
      "outputs": [
        {
          "output_type": "stream",
          "name": "stdout",
          "text": [
            "///  Task 02: Discard Cards  ///\n",
            "Task 2: [1 3 7 5 2 2 0 0 0]\n",
            "Accepted\n",
            "Task 2: [5 0 0 0 0]\n",
            "Accepted\n"
          ]
        }
      ]
    },
    {
      "cell_type": "code",
      "execution_count": null,
      "metadata": {
        "colab": {
          "base_uri": "https://localhost:8080/"
        },
        "id": "zsHjCWt7YiCI",
        "outputId": "adfd64d4-50db-479b-da63-d9189bd68806"
      },
      "outputs": [
        {
          "output_type": "stream",
          "name": "stdout",
          "text": [
            "[[-13   1]]\n"
          ]
        }
      ],
      "source": [
        "#Task 03: Decryption Process\n",
        "import numpy as np\n",
        "def decrypt_matrix(matrix):\n",
        "\n",
        "  #To Do\n",
        "  res=np.zeros((1,len(matrix[0])),dtype=int)\n",
        "  for j in range (len(matrix[0])):\n",
        "    for i in range(len(matrix)):\n",
        "        res[0][j]+=matrix[i][j]\n",
        "  r,c=res.shape\n",
        "  deff_res=np.zeros((1,c-1),dtype=int)\n",
        "  for k in range(c-1):\n",
        "    deff_res[0][k]=res[0][k+1]-res[0][k]\n",
        "  return deff_res\n",
        "\n",
        "matrix=np.array([[1,3,1],\n",
        "                 [6,4,2],\n",
        "                 [5,1,7],\n",
        "                 [9,3,3],\n",
        "                 [8,5,4]\n",
        "                 ])\n",
        "\n",
        "\n",
        "returned_array=decrypt_matrix(matrix)\n",
        "print(returned_array)\n",
        "#This should print [-13, 1]"
      ]
    },
    {
      "cell_type": "code",
      "source": [
        "# Task 04: Zigzag Walk\n",
        "def print_matrix(floor):\n",
        "    row=len(floor)\n",
        "    col=len(floor[0])\n",
        "    for i in range(row):\n",
        "        for j in range(col):\n",
        "            print(floor[i][j], end=\" \")\n",
        "\n",
        "\n",
        "def walk_zigzag(floor):\n",
        "    row,col=floor.shape\n",
        "\n",
        "    for j in range(col):\n",
        "        if j%2==0:\n",
        "            for i in range(0,row,2):\n",
        "                print(floor[i][j], end=\" \")\n",
        "        else:\n",
        "            if i%2!=0 and j%2!=0:\n",
        "                for i in range(row-2,0,-2):\n",
        "                    print(floor[i][j],end=\" \")\n",
        "            else:\n",
        "                for i in range(row-1,0-2):\n",
        "                    print (floor[i][j], end=\" \")\n",
        "\n",
        "  #TO DO\n",
        "\n",
        "\n",
        "floor = np.array([[ '3' , '8' , '4' , '6' , '1'],\n",
        "                  ['7' , '2' , '1' , '9' , '3'],\n",
        "                  ['9' , '0' , '7' , '5' , '8'],\n",
        "                  ['2' , '1' , '3' , '4' , '0'],\n",
        "                  ['1' , '4' , '2' , '8' , '6']]\n",
        "                )\n",
        "\n",
        "\n",
        "floor = np.array([[ '3' , '8' , '4' , '6' , '1'],\n",
        "                  ['7' , '2' , '1' , '9' , '3'],\n",
        "                  ['9' , '0' , '7' , '5' , '8'],\n",
        "                  ['2' , '1' , '3' , '4' , '0']]\n",
        "                )\n",
        "print_matrix(floor)\n",
        "print('Walking Sequence:')\n",
        "walk_zigzag(floor)\n",
        "print(\"###########\")\n",
        "print_matrix(floor)\n",
        "print('Walking Sequence:')\n",
        "walk_zigzag(floor)\n"
      ],
      "metadata": {
        "colab": {
          "base_uri": "https://localhost:8080/"
        },
        "id": "y-rpTLJTwhDy",
        "outputId": "e8ca79ab-ddcf-4487-b6a5-6045421073e2"
      },
      "execution_count": null,
      "outputs": [
        {
          "output_type": "stream",
          "name": "stdout",
          "text": [
            "3 8 4 6 1 7 2 1 9 3 9 0 7 5 8 2 1 3 4 0 Walking Sequence:\n",
            "3 9 4 7 1 8 ###########\n",
            "3 8 4 6 1 7 2 1 9 3 9 0 7 5 8 2 1 3 4 0 Walking Sequence:\n",
            "3 9 4 7 1 8 "
          ]
        }
      ]
    },
    {
      "cell_type": "code",
      "source": [],
      "metadata": {
        "id": "YPrX47Sr4cyN"
      },
      "execution_count": null,
      "outputs": []
    },
    {
      "cell_type": "code",
      "source": [
        "# Task 05: Row Rotation Policy of BRACU Classroom\n",
        "def row_rotation(exam_week, seat_status):\n",
        "\n",
        "    for i in range(1,exam_week-1):\n",
        "        new_seat=print_matrix(seat_status)\n",
        "    print(new_seat)\n",
        "\n",
        "    for row in range (len(seat_status)):\n",
        "        if \"AA\" in seat_status[row]:\n",
        "            return row+1\n",
        "def print_matrix(seat_status):\n",
        "\n",
        "        for c in range(len(seat_status[0])):\n",
        "            temp=seat_status[len(seat_status)-1][c]\n",
        "            for r in range(len(seat_status)-1,0,-1):\n",
        "                seat_status[r][c]=seat_status[r-1][c]\n",
        "            seat_status[0][c]=temp\n",
        "        return seat_status\n",
        "\n",
        "\n",
        "  #To Do\n",
        "seat_status = np.array([[ 'A' , 'B' , 'C' , 'D' , 'E'],\n",
        "                  ['F' , 'G' , 'H' , 'I' , 'J'],\n",
        "                  ['K' , 'L' , 'M' , 'N' , 'O'],\n",
        "                  ['P' , 'Q' , 'R' , 'S' , 'T'],\n",
        "                  ['U' , 'V' , 'W' , 'X' , 'Y'],\n",
        "                  ['Z' , 'AA' , 'BB' , 'CC' , 'DD']])\n",
        "exam_week=3\n",
        "print_matrix(seat_status)\n",
        "print()\n",
        "row_number=row_rotation(exam_week, seat_status)\n",
        "#This should print modified seat status after rotation\n",
        "print(f'Your friend AA will be on row {row_number}') #This should print Your friend AA will be on row 2"
      ],
      "metadata": {
        "id": "BVAaw82fEEeO",
        "colab": {
          "base_uri": "https://localhost:8080/"
        },
        "outputId": "3f26512e-68be-4961-9924-5e3dd88bb0a8"
      },
      "execution_count": null,
      "outputs": [
        {
          "output_type": "stream",
          "name": "stdout",
          "text": [
            "\n",
            "[['U' 'V' 'W' 'X' 'Y']\n",
            " ['Z' 'AA' 'BB' 'CC' 'DD']\n",
            " ['A' 'B' 'C' 'D' 'E']\n",
            " ['F' 'G' 'H' 'I' 'J']\n",
            " ['K' 'L' 'M' 'N' 'O']\n",
            " ['P' 'Q' 'R' 'S' 'T']]\n",
            "Your friend AA will be on row 2\n"
          ]
        }
      ]
    },
    {
      "cell_type": "code",
      "source": [
        "#Task 06: Matrix Compression\n",
        "\n",
        "def compress_matrix(matrix):\n",
        "    r,c=matrix.shape\n",
        "    new=np.zeros((int(r/2),int(c/2)), dtype=int)\n",
        "    for i in range(0,r,2):\n",
        "        val=0\n",
        "        for j in range(0,c,2):\n",
        "            val=matrix[i][j]+matrix[i+1][j]+matrix[i][j+1]+matrix[i+1][j+1]\n",
        "            new[i//2][j//2]=val\n",
        "    return new\n",
        "def print_matrix(returned_array):\n",
        "    returned_array=compress_matrix(matrix)\n",
        "    return (returned_array)\n",
        "\n",
        "  #TO DO\n",
        "\n",
        "matrix=np.array([[1,2,3,4],\n",
        "                 [5,6,7,8],\n",
        "                 [1,3,5,2],\n",
        "                 [-2,0,6,-3]\n",
        "                 ])\n",
        "print_matrix(matrix)\n",
        "print(\"...............\")\n",
        "returned_array=compress_matrix(matrix)\n",
        "print_matrix(returned_array)\n",
        "#This should print\n",
        "\n",
        "#|  14  |  22 |\n",
        "#--------------\n",
        "#|  2  |  10  |\n",
        "#--------------"
      ],
      "metadata": {
        "colab": {
          "base_uri": "https://localhost:8080/"
        },
        "id": "M7hpP8p1v-OC",
        "outputId": "d5ea22ef-3a9f-44c9-a3cd-8e0fa05f8beb"
      },
      "execution_count": null,
      "outputs": [
        {
          "output_type": "stream",
          "name": "stdout",
          "text": [
            "...............\n"
          ]
        },
        {
          "output_type": "execute_result",
          "data": {
            "text/plain": [
              "array([[14, 22],\n",
              "       [ 2, 10]])"
            ]
          },
          "metadata": {},
          "execution_count": 86
        }
      ]
    },
    {
      "cell_type": "code",
      "source": [
        "#Task 07: Game Arena\n",
        "\n",
        "def play_game(arena):\n",
        "    sum=0\n",
        "    r,c=arena.shape\n",
        "    for i in range(r):\n",
        "        for j in range(c):\n",
        "            if arena[i][j]%50==0 and arena[i][j]!=0:\n",
        "                if (i-1>=0):\n",
        "                    if arena[i-1][j]==2:\n",
        "                        sum+=2\n",
        "\n",
        "                if (j+1<c):\n",
        "                    if arena[i][j+1]==2:\n",
        "                        sum+=2\n",
        "                if (j-1>=0):\n",
        "                    if arena[i][j-1]==2:\n",
        "                        sum+=2\n",
        "                if (i+1<r):\n",
        "                    if arena[i+1][j]==2:\n",
        "                        sum+=2\n",
        "    print(\"points gained : \", sum)\n",
        "    return sum\n",
        "\n",
        "def print_matrix(arena):\n",
        "    res=play_game(arena)\n",
        "    if res>=10:\n",
        "         print(\"your team survived\")\n",
        "    else:\n",
        "        print(\"your team is out\")\n",
        "    return res\n",
        "\n",
        "arena=np.array([[0,2,2,0],\n",
        "                [50,1,2,0],\n",
        "                [2,2,2,0],\n",
        "                [1,100,2,0]\n",
        "                ])\n",
        "print_matrix(arena)\n",
        "play_game(arena)\n",
        "#This should print\n",
        "#Points Gained: 6. Your team is out.\n",
        "\n",
        "print(\".....................\")\n",
        "arena=np.array([[0,2,2,0,2],\n",
        "                [1,50,2,1,100],\n",
        "                [2,2,2,0,2],\n",
        "                [0,200,2,0,0]\n",
        "                ])\n",
        "print_matrix(arena)\n",
        "play_game(arena)\n",
        "#This should print\n",
        "#Points Gained: 14. Your team has survived the game."
      ],
      "metadata": {
        "colab": {
          "base_uri": "https://localhost:8080/"
        },
        "id": "FhZMNZ1L8Mbc",
        "outputId": "5798ead0-fa9b-4f95-9aa3-5abfc57d6182"
      },
      "execution_count": null,
      "outputs": [
        {
          "output_type": "stream",
          "name": "stdout",
          "text": [
            "points gained :  6\n",
            "your team is out\n",
            "points gained :  6\n",
            ".....................\n",
            "points gained :  14\n",
            "your team survived\n",
            "points gained :  14\n"
          ]
        },
        {
          "output_type": "execute_result",
          "data": {
            "text/plain": [
              "14"
            ]
          },
          "metadata": {},
          "execution_count": 99
        }
      ]
    }
  ]
}